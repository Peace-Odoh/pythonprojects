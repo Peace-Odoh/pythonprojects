{
 "cells": [
  {
   "cell_type": "code",
   "execution_count": 8,
   "id": "ff9ac3c8",
   "metadata": {},
   "outputs": [
    {
     "name": "stdout",
     "output_type": "stream",
     "text": [
      "Enter you name: peace\n",
      "Enter your weight in pounds: 350\n",
      "Enter your height in inches: 65\n",
      "58.23668639053255\n",
      "peace, you are morbidly obese. Seek medical attention immediately.\n"
     ]
    }
   ],
   "source": [
    "name = input(\"Enter you name: \")\n",
    "\n",
    "weight = int(input(\"Enter your weight in pounds: \"))\n",
    "\n",
    "height = int(input(\"Enter your height in inches: \"))\n",
    "\n",
    "BMI = (weight * 703) / (height * height)\n",
    "\n",
    "print(BMI)\n",
    "\n",
    "if BMI>0:\n",
    "    if(BMI<18.5):\n",
    "        print(name +\", you are underwight. You need to eat fatty foods.\")\n",
    "    elif (BMI<=24.9):\n",
    "        print(name +\", you are normal weight. You should keep eating healthy foods and exercise regularly.\")\n",
    "    elif (BMI<29.9):\n",
    "        print(name +\", you are overweight. You need to exercise more and eat healthy fruits and vegetables.\")\n",
    "    elif (BMI<34.9):\n",
    "        print(name +\", you are obese. Cut down your intake of fatty foods and see a doctor.\")\n",
    "    elif (BMI<39.9):\n",
    "        print(name +\", you are severely obese. Seek medical attention immediately.\")\n",
    "    else:\n",
    "        print(name +\", you are morbidly obese. Seek medical attention immediately.\")\n",
    "else:\n",
    "    print(\"Enter valid input\")"
   ]
  },
  {
   "cell_type": "code",
   "execution_count": null,
   "id": "d34a3cbe",
   "metadata": {},
   "outputs": [],
   "source": []
  }
 ],
 "metadata": {
  "kernelspec": {
   "display_name": "Python 3 (ipykernel)",
   "language": "python",
   "name": "python3"
  },
  "language_info": {
   "codemirror_mode": {
    "name": "ipython",
    "version": 3
   },
   "file_extension": ".py",
   "mimetype": "text/x-python",
   "name": "python",
   "nbconvert_exporter": "python",
   "pygments_lexer": "ipython3",
   "version": "3.10.9"
  }
 },
 "nbformat": 4,
 "nbformat_minor": 5
}
